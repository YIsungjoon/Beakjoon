{
 "cells": [
  {
   "cell_type": "code",
   "execution_count": 13,
   "metadata": {},
   "outputs": [
    {
     "name": "stdout",
     "output_type": "stream",
     "text": [
      "['20103324', '20133221', '20133221', '20093778', '20140101', '01234567', '20093778', '20103325']\n",
      "{'01234567', '20133221', '20140101', '20103325', '20103324', '20093778'}\n",
      "{'01234567': 1, '20133221': 2, '20140101': 1, '20103325': 1, '20103324': 1, '20093778': 2}\n"
     ]
    }
   ],
   "source": [
    "input_num = '3 8'\n",
    "num_a, num_b = map(int, input_num.split(\" \"))\n",
    "\n",
    "input_list = ['20103324','20133221','20133221','20093778','20140101','01234567','20093778','20103325']\n",
    "\n",
    "print(input_list)\n",
    "\n",
    "id_list = set(input_list)\n",
    "\n",
    "print(id_list)\n",
    "\n",
    "id_dict = {}\n",
    "\n",
    "\n",
    "for id in id_list:\n",
    "    id_dict[id] = 0\n",
    "    for input_id in input_list:\n",
    "        if id == input_id:\n",
    "            id_dict[id]+=1\n",
    "\n",
    "print(id_dict)\n"
   ]
  },
  {
   "cell_type": "code",
   "execution_count": 15,
   "metadata": {},
   "outputs": [
    {
     "data": {
      "text/plain": [
       "['20103324', '20133221', '20133221']"
      ]
     },
     "execution_count": 15,
     "metadata": {},
     "output_type": "execute_result"
    }
   ],
   "source": [
    "result = []\n",
    "for inss in input_list:\n",
    "    if id_dict[inss]==1:\n",
    "        result.append(inss)\n",
    "    else:\n",
    "        id_dict[inss]-=1\n",
    "    if len(result)==3:\n",
    "        break\n",
    "result"
   ]
  },
  {
   "cell_type": "code",
   "execution_count": null,
   "metadata": {},
   "outputs": [],
   "source": [
    "import sys\n",
    "n,m = map(int, sys.stdin.readline().split())\n",
    "input_list = [sys.stdin.readline() for _ in range(m)]\n",
    "\n",
    "id_list = set(input_list)\n",
    "\n",
    "id_dict = {}\n",
    "for id in id_list:\n",
    "    id_dict[id] = 0\n",
    "    for input_id in input_list:\n",
    "        if id == input_id:\n",
    "            id_dict[id]+=1\n",
    "            \n",
    "result = []\n",
    "for inss in input_list:\n",
    "    if id_dict[inss]==1:\n",
    "        result.append(inss)\n",
    "    else:\n",
    "        id_dict[inss]-=1\n",
    "    if len(result)==n:\n",
    "        break\n",
    "\n",
    "for i in range(n):\n",
    "    print(result[i])"
   ]
  },
  {
   "cell_type": "code",
   "execution_count": null,
   "metadata": {},
   "outputs": [],
   "source": []
  }
 ],
 "metadata": {
  "kernelspec": {
   "display_name": "yeardream",
   "language": "python",
   "name": "python3"
  },
  "language_info": {
   "codemirror_mode": {
    "name": "ipython",
    "version": 3
   },
   "file_extension": ".py",
   "mimetype": "text/x-python",
   "name": "python",
   "nbconvert_exporter": "python",
   "pygments_lexer": "ipython3",
   "version": "3.9.16"
  },
  "orig_nbformat": 4
 },
 "nbformat": 4,
 "nbformat_minor": 2
}
